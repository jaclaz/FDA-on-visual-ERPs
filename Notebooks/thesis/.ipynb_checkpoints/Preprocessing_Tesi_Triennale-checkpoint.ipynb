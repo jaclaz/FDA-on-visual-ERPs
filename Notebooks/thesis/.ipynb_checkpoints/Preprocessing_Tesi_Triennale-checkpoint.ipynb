{
 "cells": [
  {
   "cell_type": "markdown",
   "id": "4c497c1c",
   "metadata": {},
   "source": [
    "# Preprocessing"
   ]
  },
  {
   "cell_type": "markdown",
   "id": "5336af7b",
   "metadata": {},
   "source": [
    "## Importo le librerie utili"
   ]
  },
  {
   "cell_type": "code",
   "execution_count": 1,
   "id": "8c72d6be",
   "metadata": {},
   "outputs": [],
   "source": [
    "#La keyword import mi permette di utilizzare le funzioni presenti in altre librerie all'interno del mio script\n",
    "#NB: Le librerie prima vanno scaricate\n",
    "\n",
    "import numpy as np\n",
    "import os\n",
    "import pandas as pd\n",
    "import mne\n",
    "\n",
    "from mne.preprocessing import ICA\n",
    "\n",
    "#Per utilizzare una funzione da queste librerie devo scrivere: nome_libreria.nome_funzione()"
   ]
  },
  {
   "cell_type": "markdown",
   "id": "ce1a681f",
   "metadata": {},
   "source": [
    "***"
   ]
  },
  {
   "cell_type": "markdown",
   "id": "700655c5",
   "metadata": {},
   "source": [
    "## Importo l'EEG del paziente che voglio studiare"
   ]
  },
  {
   "cell_type": "markdown",
   "id": "3d1bb3f1",
   "metadata": {},
   "source": [
    "Creo una stringa di testo contenente l'indirizzo della cartella dove sono gli eeg"
   ]
  },
  {
   "cell_type": "code",
   "execution_count": 2,
   "id": "b42dc5bb",
   "metadata": {},
   "outputs": [
    {
     "name": "stdout",
     "output_type": "stream",
     "text": [
      "E:\\Datasets\\NL3\n"
     ]
    }
   ],
   "source": [
    "#Se avete messo il dataset nella stessa cartella del notebook potete usare questa riga, crea la stringa contenente il percorso\n",
    "#della working directory\n",
    "#home_path = os.path.abspath(os.getcwd())\n",
    "\n",
    "#altrimenti usate questa\n",
    "home_path = \"E:\\\\Datasets\\\\NL3\"\n",
    "\n",
    "#la vostra sarà diversa, dovrete cambiarla (Tasto dx del mouse sulla cartella + 'copia come percorso')\n",
    "#Python legge '\\' dei percorsi come un carattere speciale quindi quando li scrivete dovete sostituirlo con '\\\\'\n",
    "\n",
    "print(home_path)"
   ]
  },
  {
   "cell_type": "markdown",
   "id": "7b9f93c1",
   "metadata": {},
   "source": [
    "Scelgo l'indice del paziente che voglio studiare"
   ]
  },
  {
   "cell_type": "code",
   "execution_count": 3,
   "id": "bed0f72c",
   "metadata": {},
   "outputs": [],
   "source": [
    "paziente = 11"
   ]
  },
  {
   "cell_type": "markdown",
   "id": "34573fe3",
   "metadata": {},
   "source": [
    "Creo la stringa contenente l'indirizo del file dell'EEG del paziente che ho scelto\n",
    "NB: str() converte un numero in una stringa e per concatenare più stringhe in python si può usare il +"
   ]
  },
  {
   "cell_type": "code",
   "execution_count": 4,
   "id": "e5ca87d5",
   "metadata": {},
   "outputs": [
    {
     "name": "stdout",
     "output_type": "stream",
     "text": [
      "E:\\Datasets\\NL3\\eeg\\sub-11\\eeg\\sub-11_task-rsvp_eeg.vhdr\n"
     ]
    }
   ],
   "source": [
    "if paziente<10:\n",
    "        filename = home_path+\"\\eeg\\sub-0\"+str(paziente)+\"\\eeg\\sub-0\"+str(paziente)+\"_task-rsvp_eeg.vhdr\"\n",
    "if paziente >= 10:\n",
    "        filename = home_path+\"\\eeg\\sub-\"+str(paziente)+\"\\eeg\\sub-\"+str(paziente)+\"_task-rsvp_eeg.vhdr\"\n",
    "        \n",
    "print(filename)"
   ]
  },
  {
   "cell_type": "markdown",
   "id": "c6ecc9a6",
   "metadata": {},
   "source": [
    "Utilizzo la funzione di mne \"read_raw_brainvision\" per importare l'eeg del paziente"
   ]
  },
  {
   "cell_type": "code",
   "execution_count": 5,
   "id": "dd3b42db",
   "metadata": {},
   "outputs": [
    {
     "name": "stdout",
     "output_type": "stream",
     "text": [
      "Extracting parameters from E:\\Datasets\\NL3\\eeg\\sub-11\\eeg\\sub-11_task-rsvp_eeg.vhdr...\n",
      "Setting channel info structure...\n",
      "Reading 0 ... 3226059  =      0.000 ...  3226.059 secs...\n"
     ]
    }
   ],
   "source": [
    "raw=mne.io.read_raw_brainvision(filename, preload=True)"
   ]
  },
  {
   "cell_type": "markdown",
   "id": "0f3b49c2",
   "metadata": {},
   "source": [
    "Eseguo il plot dell'EEG"
   ]
  },
  {
   "cell_type": "code",
   "execution_count": null,
   "id": "a4b6d467",
   "metadata": {},
   "outputs": [
    {
     "name": "stdout",
     "output_type": "stream",
     "text": [
      "Using matplotlib as 2D backend.\n"
     ]
    }
   ],
   "source": [
    "#Plot di 3 secondi di 10 canali dell'EEG\n",
    "raw.plot(duration = 3, n_channels = 10)"
   ]
  },
  {
   "cell_type": "markdown",
   "id": "b256ccf5",
   "metadata": {},
   "source": [
    "Eseguo il plot della Power Spectral Density"
   ]
  },
  {
   "cell_type": "code",
   "execution_count": null,
   "id": "3bfbfd23",
   "metadata": {},
   "outputs": [],
   "source": [
    "#Plot della Power Spectral Density dei canali\n",
    "raw.compute_psd().plot()"
   ]
  },
  {
   "cell_type": "markdown",
   "id": "c8ca46d1",
   "metadata": {},
   "source": [
    "#### Provate a vedere pazienti e canali diversi!"
   ]
  },
  {
   "cell_type": "markdown",
   "id": "70c1e8cc",
   "metadata": {},
   "source": [
    "***"
   ]
  },
  {
   "cell_type": "markdown",
   "id": "aa0fb2d0",
   "metadata": {},
   "source": [
    "## Filtri e Resampling"
   ]
  },
  {
   "cell_type": "markdown",
   "id": "1e017f71",
   "metadata": {},
   "source": [
    "Applico un filtro FIR tra 0.1 e 12 Hz per isolare le frequenze rilevanti\n",
    "<br>\n",
    "Potete anche provare ad utilizzare un filtro iir Butterworth con method = 'iir'"
   ]
  },
  {
   "cell_type": "code",
   "execution_count": null,
   "id": "6d76bce1",
   "metadata": {},
   "outputs": [],
   "source": [
    "filtro=raw.filter(0.1, 12, method='fir')"
   ]
  },
  {
   "cell_type": "code",
   "execution_count": null,
   "id": "974aff5e",
   "metadata": {},
   "outputs": [],
   "source": [
    "filtro.compute_psd().plot()"
   ]
  },
  {
   "cell_type": "code",
   "execution_count": null,
   "id": "ad6ba1e2",
   "metadata": {},
   "outputs": [],
   "source": [
    "reference=filtro.set_eeg_reference(ref_channels='average')"
   ]
  },
  {
   "cell_type": "markdown",
   "id": "f87f6439",
   "metadata": {},
   "source": [
    "Il dataset ha un sample ratio di 1000 Hz, che è troppo alto, quindi faccio un resampling e lo porto a 250 Hz, in questo modo velocizzo l'analisi "
   ]
  },
  {
   "cell_type": "code",
   "execution_count": null,
   "id": "bdd24c83",
   "metadata": {},
   "outputs": [],
   "source": [
    "resample=reference.resample(sfreq=250)\n",
    "resample.compute_psd().plot()"
   ]
  },
  {
   "cell_type": "code",
   "execution_count": null,
   "id": "6e64c1b1",
   "metadata": {},
   "outputs": [],
   "source": [
    "notch=resample.notch_filter(freqs=10)\n",
    "notch.compute_psd().plot()"
   ]
  },
  {
   "cell_type": "markdown",
   "id": "4ea9a314",
   "metadata": {},
   "source": [
    "## ICA - Independent Component Analysis"
   ]
  },
  {
   "cell_type": "markdown",
   "id": "532c14d7",
   "metadata": {},
   "source": [
    "Per utilizzare l'ICA è consigliato applicare un filtro passa-alto di 1 Hz"
   ]
  },
  {
   "cell_type": "code",
   "execution_count": null,
   "id": "b93e9016",
   "metadata": {},
   "outputs": [],
   "source": [
    "preica=notch.filter(l_freq=1., h_freq=None)"
   ]
  },
  {
   "cell_type": "markdown",
   "id": "f256f667",
   "metadata": {},
   "source": [
    "Imposto la bipolar reference"
   ]
  },
  {
   "cell_type": "markdown",
   "id": "6761dec1",
   "metadata": {},
   "source": [
    "Uso i canali prefrontali per costruire un nuovo canale artificiale che sostituirà l'EOG nella ricerca di artefatti oculari"
   ]
  },
  {
   "cell_type": "code",
   "execution_count": null,
   "id": "db62e2dd",
   "metadata": {},
   "outputs": [],
   "source": [
    "bipolar_ref=mne.set_bipolar_reference(preica, 'Fp1', 'Fp2', ch_name='Reference', drop_refs=False)\n",
    "reconst_raw=bipolar_ref.copy()"
   ]
  },
  {
   "cell_type": "code",
   "execution_count": null,
   "id": "ef02f656",
   "metadata": {},
   "outputs": [],
   "source": [
    "ica = ICA(n_components=15, max_iter='auto', random_state=97)\n",
    "ica.fit(bipolar_ref)"
   ]
  },
  {
   "cell_type": "markdown",
   "id": "9a885696",
   "metadata": {},
   "source": [
    "Attraverso il nuovo canale calcolo quali componenti rappresentano artefatti oculari e le rimuovo"
   ]
  },
  {
   "cell_type": "code",
   "execution_count": null,
   "id": "28fd27a8",
   "metadata": {},
   "outputs": [],
   "source": [
    "eog_indices, eog_scores = ica.find_bads_eog(bipolar_ref, ch_name='Reference')\n",
    "ica.exclude = eog_indices\n",
    "ica.apply(reconst_raw)"
   ]
  },
  {
   "cell_type": "markdown",
   "id": "00a8eddb",
   "metadata": {},
   "source": [
    "Calcolo la porzione di varianza spiegata dalle componenti ottenute"
   ]
  },
  {
   "cell_type": "code",
   "execution_count": null,
   "id": "8cb2f1f8",
   "metadata": {},
   "outputs": [],
   "source": [
    "explained_var_ratio = ica.get_explained_variance_ratio(bipolar_ref)\n",
    "explained_var_ratio"
   ]
  },
  {
   "cell_type": "markdown",
   "id": "0979b746",
   "metadata": {},
   "source": [
    "Rimuovo il canale di reference perchè non mi serve più"
   ]
  },
  {
   "cell_type": "code",
   "execution_count": null,
   "id": "0ec0e0f2",
   "metadata": {},
   "outputs": [],
   "source": [
    "final_raw=reconst_raw.drop_channels('Reference')"
   ]
  },
  {
   "cell_type": "code",
   "execution_count": null,
   "id": "d8348119",
   "metadata": {},
   "outputs": [],
   "source": [
    "final_raw.pick(['Oz']).plot()"
   ]
  },
  {
   "cell_type": "code",
   "execution_count": null,
   "id": "f10c41ac",
   "metadata": {},
   "outputs": [],
   "source": [
    "events, event_id = mne.events_from_annotations(final_raw)"
   ]
  },
  {
   "cell_type": "code",
   "execution_count": null,
   "id": "dd8ccc16",
   "metadata": {},
   "outputs": [],
   "source": [
    "epochs = mne.Epochs(final_raw, events, tmin=-0.1, tmax=1)"
   ]
  },
  {
   "cell_type": "markdown",
   "id": "4004ed17",
   "metadata": {},
   "source": [
    "***"
   ]
  },
  {
   "cell_type": "code",
   "execution_count": null,
   "id": "e7fcac8c",
   "metadata": {},
   "outputs": [],
   "source": [
    "epochs"
   ]
  },
  {
   "cell_type": "code",
   "execution_count": null,
   "id": "4c446cc3",
   "metadata": {},
   "outputs": [],
   "source": [
    "epochs['10001'].events"
   ]
  },
  {
   "cell_type": "code",
   "execution_count": null,
   "id": "d65c2cc5",
   "metadata": {},
   "outputs": [],
   "source": []
  }
 ],
 "metadata": {
  "kernelspec": {
   "display_name": "Python 3 (ipykernel)",
   "language": "python",
   "name": "python3"
  },
  "language_info": {
   "codemirror_mode": {
    "name": "ipython",
    "version": 3
   },
   "file_extension": ".py",
   "mimetype": "text/x-python",
   "name": "python",
   "nbconvert_exporter": "python",
   "pygments_lexer": "ipython3",
   "version": "3.8.13"
  }
 },
 "nbformat": 4,
 "nbformat_minor": 5
}
