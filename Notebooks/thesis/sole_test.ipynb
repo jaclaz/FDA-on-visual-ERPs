{
 "cells": [
  {
   "cell_type": "code",
   "execution_count": 1,
   "id": "a8f3e3d4",
   "metadata": {},
   "outputs": [],
   "source": [
    "#importo librerie\n",
    "import numpy as np\n",
    "import os\n",
    "import pandas as pd\n",
    "import mne\n",
    "import matplotlib.pyplot as plt\n",
    "from scipy.integrate import simpson\n",
    "from mne.preprocessing import ICA"
   ]
  },
  {
   "cell_type": "code",
   "execution_count": 2,
   "id": "f6fae5e7",
   "metadata": {},
   "outputs": [],
   "source": [
    "#definisco i vari dati\n",
    "channels_names=['Fp1','Fz','F3','F7','FT9','FC5','FC1','C3','T7','TP9','CP5','CP1','Pz','P3','P7','O1','Oz',\n",
    "                'O2','P4','P8','TP10','CP6','CP2','C4','T8','FT10','FC6','FC2','F4','F8','Fp2','AF7','AF3','AFz','F1',\n",
    "                'F5','FT7','FC3','C1','C5','TP7','CP3','P1','P5','PO7','PO3','POz','PO4','PO8','P6','P2','CPz','CP4',\n",
    "                'TP8','C6','C2','FC4','FT8','F6','AF8','AF4', 'F2']\n",
    "\n",
    "categories=['body', 'food', 'tool','vehicle', 'animal' ]\n",
    "\n",
    "n_channels=len(channels_names)"
   ]
  },
  {
   "cell_type": "code",
   "execution_count": 3,
   "id": "c8ae93ee",
   "metadata": {},
   "outputs": [
    {
     "name": "stdout",
     "output_type": "stream",
     "text": [
      "62\n"
     ]
    }
   ],
   "source": [
    "print(str(n_channels))\n",
    "name_bands=['alpha', 'theta', 'delta']\n",
    "f_min=[8, 4, 1]  \n",
    "f_max=[12, 8, 4]"
   ]
  },
  {
   "cell_type": "code",
   "execution_count": 4,
   "id": "a03bee92",
   "metadata": {},
   "outputs": [],
   "source": [
    "patient=[]\n",
    "for i in range(50):\n",
    "    patient.append(i+1)"
   ]
  },
  {
   "cell_type": "code",
   "execution_count": 6,
   "id": "493ab6ee",
   "metadata": {},
   "outputs": [
    {
     "ename": "FileNotFoundError",
     "evalue": "File does not exist: C:\\Users\\Maria Sole\\Documents\\TESI\\body1_ERP.fif",
     "output_type": "error",
     "traceback": [
      "\u001b[1;31m---------------------------------------------------------------------------\u001b[0m",
      "\u001b[1;31mFileNotFoundError\u001b[0m                         Traceback (most recent call last)",
      "Input \u001b[1;32mIn [6]\u001b[0m, in \u001b[0;36m<cell line: 3>\u001b[1;34m()\u001b[0m\n\u001b[0;32m     15\u001b[0m                                   relative_power\u001b[38;5;241m=\u001b[39m[]\n\u001b[0;32m     17\u001b[0m                                   \u001b[38;5;28;01mfor\u001b[39;00m s \u001b[38;5;129;01min\u001b[39;00m \u001b[38;5;28mrange\u001b[39m (\u001b[38;5;241m50\u001b[39m):\n\u001b[0;32m     18\u001b[0m         \u001b[38;5;66;03m#importo il file evocato\u001b[39;00m\n\u001b[1;32m---> 19\u001b[0m                                                  erp\u001b[38;5;241m=\u001b[39m\u001b[43mmne\u001b[49m\u001b[38;5;241;43m.\u001b[39;49m\u001b[43mread_evokeds\u001b[49m\u001b[43m(\u001b[49m\u001b[38;5;124;43m\"\u001b[39;49m\u001b[38;5;124;43mC:\u001b[39;49m\u001b[38;5;130;43;01m\\\\\u001b[39;49;00m\u001b[38;5;124;43mUsers\u001b[39;49m\u001b[38;5;130;43;01m\\\\\u001b[39;49;00m\u001b[38;5;124;43mMaria Sole\u001b[39;49m\u001b[38;5;130;43;01m\\\\\u001b[39;49;00m\u001b[38;5;124;43mDocuments\u001b[39;49m\u001b[38;5;130;43;01m\\\\\u001b[39;49;00m\u001b[38;5;124;43mTESI\u001b[39;49m\u001b[38;5;130;43;01m\\\\\u001b[39;49;00m\u001b[38;5;124;43m\"\u001b[39;49m\u001b[38;5;241;43m+\u001b[39;49m\u001b[43mcategories\u001b[49m\u001b[43m[\u001b[49m\u001b[43mcat\u001b[49m\u001b[43m]\u001b[49m\u001b[38;5;241;43m+\u001b[39;49m\u001b[38;5;28;43mstr\u001b[39;49m\u001b[43m(\u001b[49m\u001b[43ms\u001b[49m\u001b[38;5;241;43m+\u001b[39;49m\u001b[38;5;241;43m1\u001b[39;49m\u001b[43m)\u001b[49m\u001b[38;5;241;43m+\u001b[39;49m\u001b[38;5;124;43m\"\u001b[39;49m\u001b[38;5;124;43m_ERP.fif\u001b[39;49m\u001b[38;5;124;43m\"\u001b[39;49m\u001b[43m)\u001b[49m\n\u001b[0;32m     23\u001b[0m \u001b[38;5;66;03m#prendo il singolo canale e il singolo spettro\u001b[39;00m\n\u001b[0;32m     25\u001b[0m                                                  erp_spectrum\u001b[38;5;241m=\u001b[39merp[\u001b[38;5;241m0\u001b[39m]\u001b[38;5;241m.\u001b[39mcompute_psd(method\u001b[38;5;241m=\u001b[39m\u001b[38;5;124m'\u001b[39m\u001b[38;5;124mwelch\u001b[39m\u001b[38;5;124m'\u001b[39m, picks\u001b[38;5;241m=\u001b[39mchannels_names[c])\n",
      "File \u001b[1;32m<decorator-gen-255>:12\u001b[0m, in \u001b[0;36mread_evokeds\u001b[1;34m(fname, condition, baseline, kind, proj, allow_maxshield, verbose)\u001b[0m\n",
      "File \u001b[1;32m~\\anaconda3\\envs\\nl2\\lib\\site-packages\\mne\\evoked.py:1180\u001b[0m, in \u001b[0;36mread_evokeds\u001b[1;34m(fname, condition, baseline, kind, proj, allow_maxshield, verbose)\u001b[0m\n\u001b[0;32m   1124\u001b[0m \u001b[38;5;129m@verbose\u001b[39m\n\u001b[0;32m   1125\u001b[0m \u001b[38;5;28;01mdef\u001b[39;00m \u001b[38;5;21mread_evokeds\u001b[39m(fname, condition\u001b[38;5;241m=\u001b[39m\u001b[38;5;28;01mNone\u001b[39;00m, baseline\u001b[38;5;241m=\u001b[39m\u001b[38;5;28;01mNone\u001b[39;00m, kind\u001b[38;5;241m=\u001b[39m\u001b[38;5;124m'\u001b[39m\u001b[38;5;124maverage\u001b[39m\u001b[38;5;124m'\u001b[39m,\n\u001b[0;32m   1126\u001b[0m                  proj\u001b[38;5;241m=\u001b[39m\u001b[38;5;28;01mTrue\u001b[39;00m, allow_maxshield\u001b[38;5;241m=\u001b[39m\u001b[38;5;28;01mFalse\u001b[39;00m, verbose\u001b[38;5;241m=\u001b[39m\u001b[38;5;28;01mNone\u001b[39;00m):\n\u001b[0;32m   1127\u001b[0m     \u001b[38;5;124;03m\"\"\"Read evoked dataset(s).\u001b[39;00m\n\u001b[0;32m   1128\u001b[0m \n\u001b[0;32m   1129\u001b[0m \u001b[38;5;124;03m    Parameters\u001b[39;00m\n\u001b[1;32m   (...)\u001b[0m\n\u001b[0;32m   1178\u001b[0m \u001b[38;5;124;03m        reading.\u001b[39;00m\n\u001b[0;32m   1179\u001b[0m \u001b[38;5;124;03m    \"\"\"\u001b[39;00m\n\u001b[1;32m-> 1180\u001b[0m     fname \u001b[38;5;241m=\u001b[39m \u001b[43m_check_fname\u001b[49m\u001b[43m(\u001b[49m\u001b[43mfname\u001b[49m\u001b[43m,\u001b[49m\u001b[43m \u001b[49m\u001b[43moverwrite\u001b[49m\u001b[38;5;241;43m=\u001b[39;49m\u001b[38;5;124;43m'\u001b[39;49m\u001b[38;5;124;43mread\u001b[39;49m\u001b[38;5;124;43m'\u001b[39;49m\u001b[43m,\u001b[49m\u001b[43m \u001b[49m\u001b[43mmust_exist\u001b[49m\u001b[38;5;241;43m=\u001b[39;49m\u001b[38;5;28;43;01mTrue\u001b[39;49;00m\u001b[43m)\u001b[49m\n\u001b[0;32m   1181\u001b[0m     check_fname(fname, \u001b[38;5;124m'\u001b[39m\u001b[38;5;124mevoked\u001b[39m\u001b[38;5;124m'\u001b[39m, (\u001b[38;5;124m'\u001b[39m\u001b[38;5;124m-ave.fif\u001b[39m\u001b[38;5;124m'\u001b[39m, \u001b[38;5;124m'\u001b[39m\u001b[38;5;124m-ave.fif.gz\u001b[39m\u001b[38;5;124m'\u001b[39m,\n\u001b[0;32m   1182\u001b[0m                                   \u001b[38;5;124m'\u001b[39m\u001b[38;5;124m_ave.fif\u001b[39m\u001b[38;5;124m'\u001b[39m, \u001b[38;5;124m'\u001b[39m\u001b[38;5;124m_ave.fif.gz\u001b[39m\u001b[38;5;124m'\u001b[39m))\n\u001b[0;32m   1183\u001b[0m     logger\u001b[38;5;241m.\u001b[39minfo(\u001b[38;5;124m'\u001b[39m\u001b[38;5;124mReading \u001b[39m\u001b[38;5;132;01m%s\u001b[39;00m\u001b[38;5;124m ...\u001b[39m\u001b[38;5;124m'\u001b[39m \u001b[38;5;241m%\u001b[39m fname)\n",
      "File \u001b[1;32m<decorator-gen-0>:12\u001b[0m, in \u001b[0;36m_check_fname\u001b[1;34m(fname, overwrite, must_exist, name, need_dir, verbose)\u001b[0m\n",
      "File \u001b[1;32m~\\anaconda3\\envs\\nl2\\lib\\site-packages\\mne\\utils\\check.py:245\u001b[0m, in \u001b[0;36m_check_fname\u001b[1;34m(fname, overwrite, must_exist, name, need_dir, verbose)\u001b[0m\n\u001b[0;32m    242\u001b[0m             \u001b[38;5;28;01mraise\u001b[39;00m \u001b[38;5;167;01mPermissionError\u001b[39;00m(\n\u001b[0;32m    243\u001b[0m                 \u001b[38;5;124mf\u001b[39m\u001b[38;5;124m'\u001b[39m\u001b[38;5;132;01m{\u001b[39;00mname\u001b[38;5;132;01m}\u001b[39;00m\u001b[38;5;124m does not have read permissions: \u001b[39m\u001b[38;5;132;01m{\u001b[39;00mfname\u001b[38;5;132;01m}\u001b[39;00m\u001b[38;5;124m'\u001b[39m)\n\u001b[0;32m    244\u001b[0m \u001b[38;5;28;01melif\u001b[39;00m must_exist:\n\u001b[1;32m--> 245\u001b[0m     \u001b[38;5;28;01mraise\u001b[39;00m \u001b[38;5;167;01mFileNotFoundError\u001b[39;00m(\u001b[38;5;124mf\u001b[39m\u001b[38;5;124m'\u001b[39m\u001b[38;5;132;01m{\u001b[39;00mname\u001b[38;5;132;01m}\u001b[39;00m\u001b[38;5;124m does not exist: \u001b[39m\u001b[38;5;132;01m{\u001b[39;00mfname\u001b[38;5;132;01m}\u001b[39;00m\u001b[38;5;124m'\u001b[39m)\n\u001b[0;32m    247\u001b[0m \u001b[38;5;28;01mreturn\u001b[39;00m fname\n",
      "\u001b[1;31mFileNotFoundError\u001b[0m: File does not exist: C:\\Users\\Maria Sole\\Documents\\TESI\\body1_ERP.fif"
     ]
    }
   ],
   "source": [
    "#creo un primo dataframe in cui ho i soggetti sulle righe, mentre sulle colonne le ampiezze per categoria \n",
    "#seleziono il picco\n",
    "for b in range (3):\n",
    "    #seleziono la categoria vhe è fisso in qesto primo dataframe (ho un dataframe per categoria)\n",
    "    \n",
    "    dataframe_list=[]\n",
    "    for cat in range (5):\n",
    "                     vector_category=[]\n",
    "        #creo il vector category\n",
    "                     for i in range(50):\n",
    "                                vector_category.append(categories[cat])\n",
    "       #seleziono canale di lavoro\n",
    "                     for c in range (n_channels):\n",
    "            #itero sui pazienti\n",
    "                                  relative_power=[]\n",
    "            \n",
    "                                  for s in range (50):\n",
    "        #importo il file evocato\n",
    "                                                 erp=mne.read_evokeds(\"C:\\\\Users\\\\Maria Sole\\\\Documents\\\\TESI\\\\\"+categories[cat]+str(s+1)+\"_ERP.fif\")\n",
    "\n",
    "            \n",
    "        \n",
    "#prendo il singolo canale e il singolo spettro\n",
    "\n",
    "                                                 erp_spectrum=erp[0].compute_psd(method='welch', picks=channels_names[c])\n",
    "                                                 psds, freqs = erp_spectrum.get_data(return_freqs=True)\n",
    "# calcolo area dello spettro\n",
    "                                                 total_power = simpson(psds, freqs)\n",
    "    #seleziono intervallo di frequenze e dati individuando gli indici\n",
    "                                                 index_window_bool=np.logical_and(freqs >=f_min[b], freqs <= f_max[b])\n",
    "                                                 index_window=[]\n",
    "                                                 for ind in range (len(index_window_bool)):\n",
    "                                                                 if index_window_bool[ind]== True:\n",
    "                                                                           index_window.append(ind)\n",
    "                              \n",
    "                                                 window_power = simpson(psds[0,[index_window[:]]], freqs[index_window[:]]) #c'era [index_window] si psds\n",
    "                #calcolo relative power\n",
    "                                                 relative_power_sing= window_power/total_power\n",
    "                \n",
    "    #costruisco i due tipi di dataframe aggiungendo colonne\n",
    "                                                 relative_power.append(str(relative_power_sing[0])) \n",
    "               \n",
    "                                  if c==0:\n",
    "                                           df_relative_power=pd.DataFrame(relative_power, columns=[channels_names[c]])\n",
    "                     \n",
    "                                  if c!=0:\n",
    "                                           df_relative_power.insert(c, channels_names[c] , relative_power)\n",
    "                    \n",
    "                     df_relative_power.insert(len(channels_names), 'Category', vector_category[0:50] )\n",
    "        \n",
    "                     dataframe_list.append(df_relative_power)\n",
    "        \n",
    "    #devo mettere i dataframe in un unico dataframe uno sotto l'altro \n",
    "    relative_power_tot_cat=dataframe_list[0]\n",
    "    for i in range (4):\n",
    "         relative_power_tot_cat=pd.merge(relative_power_tot_cat, dataframe_list[i+1], how='outer')\n",
    "    #relative_power_tot_cat.to_excel('Relative_power_'+name_bands[b]+'-test.xlsx')   "
   ]
  },
  {
   "cell_type": "code",
   "execution_count": null,
   "id": "f061f961",
   "metadata": {},
   "outputs": [],
   "source": [
    "relative_power_tot_cat"
   ]
  }
 ],
 "metadata": {
  "kernelspec": {
   "display_name": "Python 3 (ipykernel)",
   "language": "python",
   "name": "python3"
  },
  "language_info": {
   "codemirror_mode": {
    "name": "ipython",
    "version": 3
   },
   "file_extension": ".py",
   "mimetype": "text/x-python",
   "name": "python",
   "nbconvert_exporter": "python",
   "pygments_lexer": "ipython3",
   "version": "3.8.13"
  }
 },
 "nbformat": 4,
 "nbformat_minor": 5
}
