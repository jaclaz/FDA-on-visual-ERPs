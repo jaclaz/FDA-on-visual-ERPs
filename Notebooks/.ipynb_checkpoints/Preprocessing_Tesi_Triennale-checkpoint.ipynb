{
 "cells": [
  {
   "cell_type": "markdown",
   "id": "4c497c1c",
   "metadata": {},
   "source": [
    "# Preprocessing"
   ]
  },
  {
   "cell_type": "markdown",
   "id": "5336af7b",
   "metadata": {},
   "source": [
    "## Importo le librerie utili"
   ]
  },
  {
   "cell_type": "code",
   "execution_count": null,
   "id": "8c72d6be",
   "metadata": {},
   "outputs": [],
   "source": [
    "#La keyword import mi permette di utilizzare le funzioni presenti in altre librerie all'interno del mio script\n",
    "#NB: Le librerie prima vanno scaricate\n",
    "\n",
    "import numpy as np\n",
    "import os\n",
    "import pandas as pd\n",
    "import mne\n",
    "from mne.preprocessing import ICA\n",
    "from autoreject import get_rejection_threshold"
   ]
  },
  {
   "cell_type": "code",
   "execution_count": null,
   "id": "0ec0e0f2",
   "metadata": {},
   "outputs": [],
   "source": [
    "#creo una stringa di testo contenente l'indirizzo della working directory\n",
    "home_path = os.path.abspath(os.getcwd())\n",
    "\n",
    "#scelgo l'indice del paziente che voglio studiare\n",
    "paziente = 5\n",
    "\n",
    "#creo la stringa contenente l'indirizzo del file dell'eeg del paziente che ho scelto\n",
    "if paziente<10:\n",
    "        filename = home_path+\"\\sub-0\"+str(paziente)+\"\\eeg\\sub-0\"+str(paziente)+\"_task-rsvp_eeg.vhdr\"\n",
    "if paziente >= 10:\n",
    "        filename = home_path+\"\\sub-\"+str(paziente)+\"\\eeg\\sub-\"+str(paziente)+\"_task-rsvp_eeg.vhdr\"\n",
    "        \n",
    "#utilizzo la funzione di mne read_raw_brainvision per importare l'eeg del paziente\n",
    "raw=mne.io.read_raw_brainvision(filename, preload=True)\n",
    "\n",
    "#Applico un filtro fir tra 0.1 e 12 Hz\n",
    "filtro=raw.copy().filter(0.1, 12, method='fir')\n",
    "\n",
    "\n",
    "reference=filtro.copy().set_eeg_reference(ref_channels='average')\n",
    "resample=reference.copy().resample(sfreq=250)\n",
    "notch=resample.copy().notch_filter(freqs=10)\n",
    "preica=notch.copy().filter(l_freq=1., h_freq=None)\n",
    "    \n",
    "#Imposto la bipolar reference\n",
    "#Uso i canali prefrontali per costruire un nuovo canale artificiale che imiterà l'EOG nella ricerca di artefatti\n",
    "bipolar_ref=mne.set_bipolar_reference(preica, 'Fp1', 'Fp2', ch_name='Reference', drop_refs=False)\n",
    "reconst_raw=bipolar_ref.copy()\n",
    "    \n",
    "#ICA\n",
    "ica = ICA(n_components=15, max_iter='auto', random_state=97)\n",
    "ica.fit(bipolar_ref)\n",
    "eog_indices, eog_scores = ica.find_bads_eog(bipolar_ref, ch_name='Reference')\n",
    "ica.exclude = eog_indices\n",
    "ica.apply(reconst_raw)\n",
    "    \n",
    "#Rimuovo il canale di reference perchè non mi serve più\n",
    "final_raw=reconst_raw.drop_channels('Reference')"
   ]
  }
 ],
 "metadata": {
  "kernelspec": {
   "display_name": "Python 3 (ipykernel)",
   "language": "python",
   "name": "python3"
  },
  "language_info": {
   "codemirror_mode": {
    "name": "ipython",
    "version": 3
   },
   "file_extension": ".py",
   "mimetype": "text/x-python",
   "name": "python",
   "nbconvert_exporter": "python",
   "pygments_lexer": "ipython3",
   "version": "3.8.13"
  }
 },
 "nbformat": 4,
 "nbformat_minor": 5
}
