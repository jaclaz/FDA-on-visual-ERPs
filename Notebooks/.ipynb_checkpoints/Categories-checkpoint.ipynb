{
 "cells": [
  {
   "cell_type": "markdown",
   "id": "c57f8747",
   "metadata": {},
   "source": [
    "# Creazione del dataframe delle categorie"
   ]
  },
  {
   "cell_type": "code",
   "execution_count": null,
   "id": "1346d36b",
   "metadata": {},
   "outputs": [],
   "source": [
    "import pandas as pd\n",
    "import numpy as np"
   ]
  },
  {
   "cell_type": "markdown",
   "id": "714e299b",
   "metadata": {},
   "source": [
    "## Funzioni"
   ]
  },
  {
   "cell_type": "code",
   "execution_count": null,
   "id": "5cb40dfa",
   "metadata": {},
   "outputs": [],
   "source": [
    "#Funzione per creare il dataset dove ad ogni immagine è associata una categoria\n",
    "def categorization(words,categories_matrix):\n",
    "\n",
    "    categories = pd.read_csv(r\"C:\\Users\\Asus\\Downloads\\things_concepts.tsv\", sep='\\t')\n",
    "    BU_categories = categories['All Bottom-up Categories']\n",
    "    \n",
    "    res=[]\n",
    "    k=0\n",
    "    for cat in BU_categories:\n",
    "        for  word in words:\n",
    "            if word in cat:\n",
    "                res.append(k)\n",
    "        k+=1\n",
    "    categories_matrix.append(res)\n",
    "    return res\n",
    "\n",
    "#Funzione per vedere se un immagine è già stata categorizzata\n",
    "def find(target, matrix):\n",
    "    for ii in np.arange(len(matrix)):\n",
    "        for idx in matrix[ii]:\n",
    "            if idx == target:\n",
    "                return True\n",
    "    return False\n",
    "\n",
    "#Funzione per rimuovere i duplicati\n",
    "def DuplicateRemoval(matrix):\n",
    "    for ii in np.arange(len(matrix)):\n",
    "        nodup = list(dict.fromkeys(matrix[ii]))\n",
    "        matrix[ii]=nodup\n",
    "        \n",
    "#Funzione per creare una matrice con le immagini ancora senza categoria\n",
    "def CreateMissingMatrix(BU_categories,categories_matrix):\n",
    "    missing=[]\n",
    "    res=[]\n",
    "    for idx in np.arange(len(BU_categories)):\n",
    "        if not find(idx,categories_matrix):\n",
    "            missing.append(BU_categories[idx])\n",
    "            res.append(idx)\n",
    "    categories_matrix.append(res)\n",
    "    return missing,res"
   ]
  },
  {
   "cell_type": "markdown",
   "id": "62df0c4d",
   "metadata": {},
   "source": [
    "## Categorizzazione"
   ]
  },
  {
   "cell_type": "code",
   "execution_count": null,
   "id": "6a3cc707",
   "metadata": {},
   "outputs": [],
   "source": [
    "#Categorie considerate\n",
    "categories_name=['animal','bird','body part','clothing','clothing accessory','container','dessert','drink',\n",
    "'electronic device','food','fruit','furniture','home decor','insect','kitchen appliance','kitchen tool','medical equipment',\n",
    "'musical instrument','office supply','part of car','plant','sports equipment','tool','toy','vegetable','vehicle','weapon','uncategorized']\n",
    "\n",
    "categories_matrix=[]\n",
    "animal_idx=categorization(['animal','sea creature','fish','dog','reptile','crustacean','amphibian','pet','rodent'],categories_matrix)\n",
    "bird_idx=categorization(['bird'],categories_matrix)\n",
    "body_part_idx=categorization(['body part'],categories_matrix)\n",
    "clothing_idx=categorization(['clothing','hat','shoe','footwear','underwear'],categories_matrix)\n",
    "clothing_acc_idx=categorization(['clothing accessory','belt'],categories_matrix)\n",
    "container_idx=categorization(['container','pet supply','smoking accessory'],categories_matrix)\n",
    "dessert_idx=categorization(['dessert','pastry','cookie','candy'],categories_matrix)\n",
    "drink_idx=categorization(['drink'],categories_matrix)\n",
    "electronic_dev_idx=categorization(['electronic device','receiver'],categories_matrix)\n",
    "food_idx=categorization(['food','herb','meal','bread','snack','meat','condiment'],categories_matrix)\n",
    "fruit_idx=categorization(['fruit','nut'],categories_matrix)\n",
    "furniture_idx=categorization(['furniture'],categories_matrix)\n",
    "home_decor_idx=categorization(['home decor'],categories_matrix)\n",
    "insect_idx=categorization(['insect','larva'],categories_matrix)\n",
    "kitchen_app_idx=categorization(['kitchen appliance'],categories_matrix)\n",
    "kitchen_tool_idx=categorization(['kitchen tool'],categories_matrix)\n",
    "medical_eq_idx=categorization(['medical equipment'],categories_matrix)\n",
    "musical_inst_idx=categorization(['musical instrument','music equipment'],categories_matrix)\n",
    "office_supply_idx=categorization(['office supply'],categories_matrix)\n",
    "part_of_car_idx=categorization(['part of car'],categories_matrix)\n",
    "plant_idx=categorization(['plant','flower','weed','fungus','tree','seed'],categories_matrix)\n",
    "sports_eq_idx=categorization(['sports equipment','hiking gear','gymnastics equipment','exercise equipment','fishing equipment','swimming equipment','baseball accessory'],categories_matrix)\n",
    "tool_idx=categorization(['tool','mathematical device','photography equipment','scientific equipment','clock','rope'],categories_matrix)\n",
    "toy_idx=categorization(['toy','game'],categories_matrix)\n",
    "vegetable_idx=categorization(['vegetable'],categories_matrix)\n",
    "vehicle_idx=categorization(['vehicle','watercraft','military vessel','boat','aircraft'],categories_matrix)\n",
    "weapon_idx=categorization(['weapon','ammunition','gun accessory'],categories_matrix)\n",
    "\n",
    "categories = pd.read_csv(r\"C:\\Users\\Asus\\Downloads\\things_concepts.tsv\", sep='\\t')\n",
    "BU_categories = categories['All Bottom-up Categories']\n",
    "\n",
    "#gli indici delle immagini non ancora categorizzate\n",
    "missing, missing_idx=CreateMissingMatrix(BU_categories,categories_matrix)\n",
    "\n",
    "#rimuovo i duplicati e salvo come dataframe per usarlo con le epochs\n",
    "DuplicateRemoval(categories_matrix)  \n",
    "categories_df=pd.DataFrame(categories_matrix,categories_name)\n",
    "categories_df.to_csv('cat_dataframe.csv')"
   ]
  }
 ],
 "metadata": {
  "kernelspec": {
   "display_name": "Python 3 (ipykernel)",
   "language": "python",
   "name": "python3"
  },
  "language_info": {
   "codemirror_mode": {
    "name": "ipython",
    "version": 3
   },
   "file_extension": ".py",
   "mimetype": "text/x-python",
   "name": "python",
   "nbconvert_exporter": "python",
   "pygments_lexer": "ipython3",
   "version": "3.8.13"
  }
 },
 "nbformat": 4,
 "nbformat_minor": 5
}
