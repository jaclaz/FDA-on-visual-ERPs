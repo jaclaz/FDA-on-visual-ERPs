{
 "cells": [
  {
   "cell_type": "markdown",
   "id": "ee304c51",
   "metadata": {},
   "source": [
    "# Preprocessing e categorizzazione"
   ]
  },
  {
   "cell_type": "code",
   "execution_count": 3,
   "id": "2e1b5d67",
   "metadata": {},
   "outputs": [],
   "source": [
    "import numpy as np\n",
    "import os\n",
    "import pandas as pd\n",
    "import mne\n",
    "from mne.preprocessing import ICA\n",
    "from autoreject import get_rejection_threshold"
   ]
  },
  {
   "cell_type": "markdown",
   "id": "1a39f41b",
   "metadata": {},
   "source": [
    "## Funzione preprocessing"
   ]
  },
  {
   "cell_type": "code",
   "execution_count": null,
   "id": "11538f0c",
   "metadata": {},
   "outputs": [],
   "source": [
    "def Preprocessing(filename):\n",
    "    raw=mne.io.read_raw_brainvision(filename, preload=True)\n",
    "    filtro=raw.copy().filter(0.1, 12, method='fir')\n",
    "    reference=filtro.copy().set_eeg_reference(ref_channels='average')\n",
    "    resample=reference.copy().resample(sfreq=250)\n",
    "    notch=resample.copy().notch_filter(freqs=10)\n",
    "    preica=notch.copy().filter(l_freq=1., h_freq=None)\n",
    "    \n",
    "    #Imposto la bipolar reference\n",
    "    bipolar_ref=mne.set_bipolar_reference(preica, 'Fp1', 'Fp2', ch_name='Reference', drop_refs=False)\n",
    "    reconst_raw=bipolar_ref.copy()\n",
    "    \n",
    "    #ICA\n",
    "    ica = ICA(n_components=15, max_iter='auto', random_state=97)\n",
    "    ica.fit(bipolar_ref)\n",
    "    eog_indices, eog_scores = ica.find_bads_eog(bipolar_ref, ch_name='Reference')\n",
    "    ica.exclude = eog_indices\n",
    "    ica.apply(reconst_raw)\n",
    "    \n",
    "    #Rimuovo il canale di reference per evitare che venga conteggiato nelle epochs rimosse\n",
    "    final_raw=reconst_raw.drop_channels('Reference')\n",
    "    \n",
    "    return final_raw"
   ]
  },
  {
   "cell_type": "markdown",
   "id": "9c6f90f1",
   "metadata": {},
   "source": [
    "## Funzioni per dividere associare le categorie alle  windows"
   ]
  },
  {
   "cell_type": "code",
   "execution_count": null,
   "id": "1889a358",
   "metadata": {},
   "outputs": [],
   "source": [
    "def column(matrix, i):\n",
    "    return [row[i] for row in matrix]\n",
    "\n",
    "def Categorize(paziente, home_path,reject):\n",
    "    \n",
    "    #importo i dati e i concepts di THINGS\n",
    "    categories = pd.read_csv(r\"C:\\Users\\Asus\\Downloads\\things_concepts.tsv\", sep='\\t')\n",
    "    \n",
    "    if paziente < 10:\n",
    "        filename = home_path+\"\\sub-0\"+str(paziente)+\"\\eeg\\sub-0\"+str(paziente)+\"_task-rsvp_events.csv\"\n",
    "    if paziente >= 10:\n",
    "        filename = home_path+\"\\sub-\"+str(paziente)+\"\\eeg\\sub-\"+str(paziente)+\"_task-rsvp_events.csv\"        \n",
    "    df_events = pd.read_csv(filename)\n",
    "    \n",
    "    \n",
    "    if paziente<10:\n",
    "        filename = home_path+\"\\sub-0\"+str(paziente)+\"\\eeg\\sub-0\"+str(paziente)+\"_task-rsvp_eeg.vhdr\"\n",
    "    if paziente >= 10:\n",
    "        filename = home_path+\"\\sub-\"+str(paziente)+\"\\eeg\\sub-\"+str(paziente)+\"_task-rsvp_eeg.vhdr\"\n",
    "    \n",
    "    \n",
    "    final_raw=Preprocessing(filename)\n",
    "    \n",
    "    #estraggo gli eventi\n",
    "    \n",
    "    events, event_id = mne.events_from_annotations(final_raw)    \n",
    "\n",
    "    epochs = mne.Epochs(final_raw, events, tmin=-0.1, tmax=1)\n",
    "    \n",
    "    #Estraggo solo le epochs che registrano l'esperimento\n",
    "    \n",
    "    data=epochs['10001']\n",
    "    \n",
    "    #Estraggo le macro-categorie e le ordino per poterle associare facilmente\n",
    "    #alle epochs corrispondenti\n",
    "    \n",
    "    BU_categories = categories['All Bottom-up Categories']\n",
    "    obj_num=df_events['objectnumber']\n",
    "\n",
    "    new_events=data.events\n",
    "    num=obj_num.to_numpy()\n",
    "    \n",
    "    #imposto come codice evento i numeri associati ai concepts di THINGS\n",
    "    \n",
    "    for ii in np.arange(len(new_events[:])):\n",
    "        new_events[ii][2]=num[ii]\n",
    "    \n",
    "    #nuovo dizionario per gli events con i concepts associati alle macro-categorie\n",
    "    \n",
    "    cat_dataframe = pd.read_csv(home_path+'\\cat_dataframe.csv',index_col=0)\n",
    "    new_dict=cat_dataframe.T.to_dict(orient='list')\n",
    "    clean_dict={}\n",
    "    \n",
    "    for key_name in new_dict:\n",
    "        items_cleaned = [item for item in new_dict[key_name] if not np.isnan(item)]\n",
    "        clean_dict[key_name] = items_cleaned\n",
    "        clean_dict[key_name] = [int(val) for val in clean_dict[key_name]]\n",
    "    \n",
    "    j=0\n",
    "    for ii in column(new_events,2):\n",
    "        k=0\n",
    "        for key_name in clean_dict:\n",
    "            if ii in clean_dict[key_name]:\n",
    "                new_events[j][2]=k\n",
    "            k+=1\n",
    "        j+=1 \n",
    "        \n",
    "    k=0\n",
    "    \n",
    "    #associo ad ogni nuova categoria un numero\n",
    "    for key_name in clean_dict:\n",
    "        clean_dict[key_name]=k\n",
    "        k+=1\n",
    "    \n",
    "    clean_dict['trial']=-1\n",
    "        \n",
    "    data.event_id=clean_dict\n",
    "\n",
    "    #elimino le epochs attraverso autoreject e elimino i pazienti con drop >= 80%\n",
    "\n",
    "    reject_tresh = get_rejection_threshold(data)  \n",
    "    data.drop_bad(reject=reject_tresh)\n",
    "    data.plot_drop_log()\n",
    "    reject.append(reject_tresh['eeg'])\n",
    "    pazienti_no=[1, 6, 18, 23]\n",
    "    if data.drop_log_stats()<80 and paziente not in pazienti_no:\n",
    "        data.save('autoreject\\sub-'+str(paziente)+'_task-rsvp-epo.fif', overwrite=True)\n",
    "    \n",
    "    return data, cat_dataframe, clean_dict, new_dict, new_events, df_events,num,reject_tresh,reject"
   ]
  },
  {
   "cell_type": "markdown",
   "id": "c06e3609",
   "metadata": {},
   "source": [
    "## Ciclo for per il preprocessing su tutti i pazienti"
   ]
  },
  {
   "cell_type": "code",
   "execution_count": null,
   "id": "1322d23b",
   "metadata": {},
   "outputs": [],
   "source": [
    "home_path = os.path.abspath(os.getcwd())\n",
    "reject=[]\n",
    "for ii in range(48, 49):\n",
    "    data, prova, dictio,a,b,c,num,tresh,reject = Categorize(ii, home_path,reject)"
   ]
  }
 ],
 "metadata": {
  "kernelspec": {
   "display_name": "Python 3 (ipykernel)",
   "language": "python",
   "name": "python3"
  },
  "language_info": {
   "codemirror_mode": {
    "name": "ipython",
    "version": 3
   },
   "file_extension": ".py",
   "mimetype": "text/x-python",
   "name": "python",
   "nbconvert_exporter": "python",
   "pygments_lexer": "ipython3",
   "version": "3.8.5"
  }
 },
 "nbformat": 4,
 "nbformat_minor": 5
}
