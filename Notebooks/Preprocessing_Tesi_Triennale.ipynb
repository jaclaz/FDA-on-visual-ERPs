{
 "cells": [
  {
   "cell_type": "markdown",
   "id": "4c497c1c",
   "metadata": {},
   "source": [
    "# Preprocessing"
   ]
  },
  {
   "cell_type": "markdown",
   "id": "5336af7b",
   "metadata": {},
   "source": [
    "## Importo le librerie utili"
   ]
  },
  {
   "cell_type": "code",
   "execution_count": 1,
   "id": "8c72d6be",
   "metadata": {},
   "outputs": [],
   "source": [
    "#La keyword import mi permette di utilizzare le funzioni presenti in altre librerie all'interno del mio script\n",
    "#NB: Le librerie prima vanno scaricate\n",
    "\n",
    "import numpy as np\n",
    "import os\n",
    "import pandas as pd\n",
    "import mne\n",
    "\n",
    "from mne.preprocessing import ICA\n",
    "\n",
    "#Per utilizzare una funzione da queste librerie devo scrivere: nome_libreria.nome_funzione()"
   ]
  },
  {
   "cell_type": "markdown",
   "id": "ce1a681f",
   "metadata": {},
   "source": [
    "***"
   ]
  },
  {
   "cell_type": "markdown",
   "id": "700655c5",
   "metadata": {},
   "source": [
    "## Importo l'EEG del paziente che voglio studiare"
   ]
  },
  {
   "cell_type": "markdown",
   "id": "3d1bb3f1",
   "metadata": {},
   "source": [
    "Creo una stringa di testo contenente l'indirizzo della cartella dove sono gli eeg"
   ]
  },
  {
   "cell_type": "code",
   "execution_count": 2,
   "id": "b42dc5bb",
   "metadata": {},
   "outputs": [
    {
     "name": "stdout",
     "output_type": "stream",
     "text": [
      "E:\\Datasets\\NL3\n"
     ]
    }
   ],
   "source": [
    "#Se avete messo il dataset nella stessa cartella del notebook potete usare questa riga, crea la stringa contenente il percorso\n",
    "#della working directory\n",
    "#home_path = os.path.abspath(os.getcwd())\n",
    "\n",
    "#altrimenti usate questa\n",
    "home_path=\"E:\\\\Datasets\\\\NL3\"\n",
    "\n",
    "#la vostra sarà diversa, dovrete cambiarla (Tasto dx del mouse sulla cartella + 'copia come percorso')\n",
    "#Python legge '\\' dei percorsi come un carattere speciale quindi quando li scrivete dovete sostituirlo con '\\\\'\n",
    "\n",
    "print(home_path)"
   ]
  },
  {
   "cell_type": "markdown",
   "id": "7b9f93c1",
   "metadata": {},
   "source": [
    "Scelgo l'indice del paziente che voglio studiare"
   ]
  },
  {
   "cell_type": "code",
   "execution_count": 3,
   "id": "bed0f72c",
   "metadata": {},
   "outputs": [],
   "source": [
    "paziente = 5"
   ]
  },
  {
   "cell_type": "markdown",
   "id": "34573fe3",
   "metadata": {},
   "source": [
    "Creo la stringa contenente l'indirizo del file dell'EEG del paziente che ho scelto\n",
    "NB: str() converte un numero in una stringa e per concatenare più stringhe in python si può usare il +"
   ]
  },
  {
   "cell_type": "code",
   "execution_count": 4,
   "id": "e5ca87d5",
   "metadata": {},
   "outputs": [
    {
     "name": "stdout",
     "output_type": "stream",
     "text": [
      "E:\\Datasets\\NL3\\eeg\\sub-05\\eeg\\sub-05_task-rsvp_eeg.vhdr\n"
     ]
    }
   ],
   "source": [
    "if paziente<10:\n",
    "        filename = home_path+\"\\eeg\\sub-0\"+str(paziente)+\"\\eeg\\sub-0\"+str(paziente)+\"_task-rsvp_eeg.vhdr\"\n",
    "if paziente >= 10:\n",
    "        filename = home_path+\"\\eeg\\sub-\"+str(paziente)+\"\\eeg\\sub-\"+str(paziente)+\"_task-rsvp_eeg.vhdr\"\n",
    "        \n",
    "print(filename)"
   ]
  },
  {
   "cell_type": "markdown",
   "id": "c6ecc9a6",
   "metadata": {},
   "source": [
    "Utilizzo la funzione di mne \"read_raw_brainvision\" per importare l'eeg del paziente"
   ]
  },
  {
   "cell_type": "code",
   "execution_count": 5,
   "id": "dd3b42db",
   "metadata": {},
   "outputs": [
    {
     "name": "stdout",
     "output_type": "stream",
     "text": [
      "Extracting parameters from E:\\Datasets\\NL3\\eeg\\sub-05\\eeg\\sub-05_task-rsvp_eeg.vhdr...\n",
      "Setting channel info structure...\n",
      "Reading 0 ... 3022019  =      0.000 ...  3022.019 secs...\n"
     ]
    }
   ],
   "source": [
    "raw=mne.io.read_raw_brainvision(filename, preload=True)"
   ]
  },
  {
   "cell_type": "markdown",
   "id": "0f3b49c2",
   "metadata": {},
   "source": [
    "Eseguo il plot dell'EEG"
   ]
  },
  {
   "cell_type": "code",
   "execution_count": null,
   "id": "a4b6d467",
   "metadata": {},
   "outputs": [
    {
     "name": "stdout",
     "output_type": "stream",
     "text": [
      "Using matplotlib as 2D backend.\n"
     ]
    }
   ],
   "source": [
    "#Plot di 3 secondi di 10 canali dell'EEG\n",
    "raw.plot(duration = 3, n_channels = 10)"
   ]
  },
  {
   "cell_type": "markdown",
   "id": "b256ccf5",
   "metadata": {},
   "source": [
    "Eseguo il plot della Power Spectral Density"
   ]
  },
  {
   "cell_type": "code",
   "execution_count": null,
   "id": "3bfbfd23",
   "metadata": {},
   "outputs": [],
   "source": [
    "#Plot della Power Spectral Density dei canali\n",
    "raw.compute_psd().plot()"
   ]
  },
  {
   "cell_type": "markdown",
   "id": "c8ca46d1",
   "metadata": {},
   "source": [
    "#### Provate a vedere pazienti e canali diversi!"
   ]
  },
  {
   "cell_type": "markdown",
   "id": "70c1e8cc",
   "metadata": {},
   "source": [
    "***"
   ]
  },
  {
   "cell_type": "markdown",
   "id": "aa0fb2d0",
   "metadata": {},
   "source": [
    "## Filtri e Resampling"
   ]
  },
  {
   "cell_type": "code",
   "execution_count": null,
   "id": "6d76bce1",
   "metadata": {},
   "outputs": [],
   "source": [
    "#Applico un filtro FIR tra 0.1 e 12 Hz per isolare le frequenze rilevanti\n",
    "filtro=raw.filter(0.1, 12, method='fir')"
   ]
  },
  {
   "cell_type": "code",
   "execution_count": 9,
   "id": "ad6ba1e2",
   "metadata": {},
   "outputs": [
    {
     "name": "stdout",
     "output_type": "stream",
     "text": [
      "EEG channel type selected for re-referencing\n",
      "Applying average reference.\n",
      "Applying a custom ('EEG',) reference.\n"
     ]
    }
   ],
   "source": [
    "reference=filtro.set_eeg_reference(ref_channels='average')"
   ]
  },
  {
   "cell_type": "code",
   "execution_count": 10,
   "id": "6e64c1b1",
   "metadata": {},
   "outputs": [
    {
     "name": "stdout",
     "output_type": "stream",
     "text": [
      "Setting up band-stop filter from 9.5 - 11 Hz\n",
      "\n",
      "FIR filter parameters\n",
      "---------------------\n",
      "Designing a one-pass, zero-phase, non-causal bandstop filter:\n",
      "- Windowed time-domain design (firwin) method\n",
      "- Hamming window with 0.0194 passband ripple and 53 dB stopband attenuation\n",
      "- Lower passband edge: 9.47\n",
      "- Lower transition bandwidth: 0.50 Hz (-6 dB cutoff frequency: 9.22 Hz)\n",
      "- Upper passband edge: 10.53 Hz\n",
      "- Upper transition bandwidth: 0.50 Hz (-6 dB cutoff frequency: 10.78 Hz)\n",
      "- Filter length: 1651 samples (6.604 sec)\n",
      "\n"
     ]
    },
    {
     "name": "stderr",
     "output_type": "stream",
     "text": [
      "[Parallel(n_jobs=1)]: Using backend SequentialBackend with 1 concurrent workers.\n",
      "[Parallel(n_jobs=1)]: Done   1 out of   1 | elapsed:    0.0s remaining:    0.0s\n",
      "[Parallel(n_jobs=1)]: Done   2 out of   2 | elapsed:    0.0s remaining:    0.0s\n",
      "[Parallel(n_jobs=1)]: Done   3 out of   3 | elapsed:    0.0s remaining:    0.0s\n",
      "[Parallel(n_jobs=1)]: Done   4 out of   4 | elapsed:    0.0s remaining:    0.0s\n",
      "[Parallel(n_jobs=1)]: Done  63 out of  63 | elapsed:    1.5s finished\n"
     ]
    }
   ],
   "source": [
    "#Il dataset ha un sample ratio di 1000 Hz, che è troppo alto, quindi faccio un resampling e lo porto a 250 Hz\n",
    "resample=reference.copy().resample(sfreq=250)\n",
    "notch=resample.copy().notch_filter(freqs=10)"
   ]
  },
  {
   "cell_type": "markdown",
   "id": "4ea9a314",
   "metadata": {},
   "source": [
    "## ICA - Independent Component Analysis"
   ]
  },
  {
   "cell_type": "code",
   "execution_count": 11,
   "id": "b93e9016",
   "metadata": {},
   "outputs": [
    {
     "name": "stdout",
     "output_type": "stream",
     "text": [
      "Filtering raw data in 1 contiguous segment\n",
      "Setting up high-pass filter at 1 Hz\n",
      "\n",
      "FIR filter parameters\n",
      "---------------------\n",
      "Designing a one-pass, zero-phase, non-causal highpass filter:\n",
      "- Windowed time-domain design (firwin) method\n",
      "- Hamming window with 0.0194 passband ripple and 53 dB stopband attenuation\n",
      "- Lower passband edge: 1.00\n",
      "- Lower transition bandwidth: 1.00 Hz (-6 dB cutoff frequency: 0.50 Hz)\n",
      "- Filter length: 825 samples (3.300 sec)\n",
      "\n"
     ]
    },
    {
     "name": "stderr",
     "output_type": "stream",
     "text": [
      "[Parallel(n_jobs=1)]: Using backend SequentialBackend with 1 concurrent workers.\n",
      "[Parallel(n_jobs=1)]: Done   1 out of   1 | elapsed:    0.0s remaining:    0.0s\n",
      "[Parallel(n_jobs=1)]: Done   2 out of   2 | elapsed:    0.0s remaining:    0.0s\n",
      "[Parallel(n_jobs=1)]: Done   3 out of   3 | elapsed:    0.0s remaining:    0.0s\n",
      "[Parallel(n_jobs=1)]: Done   4 out of   4 | elapsed:    0.0s remaining:    0.0s\n",
      "[Parallel(n_jobs=1)]: Done  63 out of  63 | elapsed:    1.6s finished\n"
     ]
    }
   ],
   "source": [
    "#Per utilizzare l'ICA è consigliato applicare un filtro passa-alto di 1 Hz\n",
    "preica=notch.copy().filter(l_freq=1., h_freq=None)"
   ]
  },
  {
   "cell_type": "code",
   "execution_count": 12,
   "id": "0892ee9e",
   "metadata": {},
   "outputs": [
    {
     "name": "stdout",
     "output_type": "stream",
     "text": [
      "EEG channel type selected for re-referencing\n",
      "Creating RawArray with float64 data, n_channels=1, n_times=755505\n",
      "    Range : 0 ... 755504 =      0.000 ...  3022.016 secs\n",
      "Ready.\n",
      "Added the following bipolar channels:\n",
      "Reference\n"
     ]
    }
   ],
   "source": [
    "#Imposto la bipolar reference\n",
    "#Uso i canali prefrontali per costruire un nuovo canale artificiale che sostituirà l'EOG nella ricerca di artefatti oculari\n",
    "\n",
    "bipolar_ref=mne.set_bipolar_reference(preica, 'Fp1', 'Fp2', ch_name='Reference', drop_refs=False)\n",
    "reconst_raw=bipolar_ref.copy()\n",
    "  "
   ]
  },
  {
   "cell_type": "code",
   "execution_count": 13,
   "id": "28fd27a8",
   "metadata": {},
   "outputs": [
    {
     "name": "stdout",
     "output_type": "stream",
     "text": [
      "Fitting ICA to data using 64 channels (please be patient, this may take a while)\n",
      "Selecting by number: 15 components\n",
      "Fitting ICA took 19.0s.\n",
      "Using EOG channel: Reference\n",
      "... filtering ICA sources\n",
      "Setting up band-pass filter from 1 - 10 Hz\n",
      "\n",
      "FIR filter parameters\n",
      "---------------------\n",
      "Designing a two-pass forward and reverse, zero-phase, non-causal bandpass filter:\n",
      "- Windowed frequency-domain design (firwin2) method\n",
      "- Hann window\n",
      "- Lower passband edge: 1.00\n",
      "- Lower transition bandwidth: 0.50 Hz (-12 dB cutoff frequency: 0.75 Hz)\n",
      "- Upper passband edge: 10.00 Hz\n",
      "- Upper transition bandwidth: 0.50 Hz (-12 dB cutoff frequency: 10.25 Hz)\n",
      "- Filter length: 2500 samples (10.000 sec)\n",
      "\n"
     ]
    },
    {
     "name": "stderr",
     "output_type": "stream",
     "text": [
      "[Parallel(n_jobs=1)]: Using backend SequentialBackend with 1 concurrent workers.\n",
      "[Parallel(n_jobs=1)]: Done   1 out of   1 | elapsed:    0.0s remaining:    0.0s\n",
      "[Parallel(n_jobs=1)]: Done   2 out of   2 | elapsed:    0.0s remaining:    0.0s\n",
      "[Parallel(n_jobs=1)]: Done   3 out of   3 | elapsed:    0.0s remaining:    0.0s\n",
      "[Parallel(n_jobs=1)]: Done   4 out of   4 | elapsed:    0.0s remaining:    0.0s\n"
     ]
    },
    {
     "name": "stdout",
     "output_type": "stream",
     "text": [
      "... filtering target\n",
      "Setting up band-pass filter from 1 - 10 Hz\n",
      "\n",
      "FIR filter parameters\n",
      "---------------------\n",
      "Designing a two-pass forward and reverse, zero-phase, non-causal bandpass filter:\n",
      "- Windowed frequency-domain design (firwin2) method\n",
      "- Hann window\n",
      "- Lower passband edge: 1.00\n",
      "- Lower transition bandwidth: 0.50 Hz (-12 dB cutoff frequency: 0.75 Hz)\n",
      "- Upper passband edge: 10.00 Hz\n",
      "- Upper transition bandwidth: 0.50 Hz (-12 dB cutoff frequency: 10.25 Hz)\n",
      "- Filter length: 2500 samples (10.000 sec)\n",
      "\n"
     ]
    },
    {
     "name": "stderr",
     "output_type": "stream",
     "text": [
      "[Parallel(n_jobs=1)]: Done  15 out of  15 | elapsed:    0.3s finished\n",
      "[Parallel(n_jobs=1)]: Using backend SequentialBackend with 1 concurrent workers.\n",
      "[Parallel(n_jobs=1)]: Done   1 out of   1 | elapsed:    0.0s remaining:    0.0s\n",
      "[Parallel(n_jobs=1)]: Done   1 out of   1 | elapsed:    0.0s finished\n"
     ]
    },
    {
     "name": "stdout",
     "output_type": "stream",
     "text": [
      "Applying ICA to Raw instance\n",
      "    Transforming to ICA space (15 components)\n",
      "    Zeroing out 1 ICA component\n",
      "    Projecting back using 64 PCA components\n"
     ]
    },
    {
     "data": {
      "text/html": [
       "<table class=\"table table-hover table-striped table-sm table-responsive small\">\n",
       "    <tr>\n",
       "        <th>Measurement date</th>\n",
       "        \n",
       "        <td>May 10, 2019  17:41:53 GMT</td>\n",
       "        \n",
       "    </tr>\n",
       "    <tr>\n",
       "        <th>Experimenter</th>\n",
       "        \n",
       "        <td>Unknown</td>\n",
       "        \n",
       "    </tr>\n",
       "        <th>Participant</th>\n",
       "        \n",
       "        <td>Unknown</td>\n",
       "        \n",
       "    </tr>\n",
       "    <tr>\n",
       "        <th>Digitized points</th>\n",
       "        \n",
       "        <td>66 points</td>\n",
       "        \n",
       "    </tr>\n",
       "    <tr>\n",
       "        <th>Good channels</th>\n",
       "        <td>64 EEG</td>\n",
       "    </tr>\n",
       "    <tr>\n",
       "        <th>Bad channels</th>\n",
       "        <td>None</td>\n",
       "    </tr>\n",
       "    <tr>\n",
       "        <th>EOG channels</th>\n",
       "        <td>Not available</td>\n",
       "    </tr>\n",
       "    <tr>\n",
       "        <th>ECG channels</th>\n",
       "        <td>Not available</td>\n",
       "    \n",
       "    <tr>\n",
       "        <th>Sampling frequency</th>\n",
       "        <td>250.00 Hz</td>\n",
       "    </tr>\n",
       "    \n",
       "    \n",
       "    <tr>\n",
       "        <th>Highpass</th>\n",
       "        <td>1.00 Hz</td>\n",
       "    </tr>\n",
       "    \n",
       "    \n",
       "    <tr>\n",
       "        <th>Lowpass</th>\n",
       "        <td>12.00 Hz</td>\n",
       "    </tr>\n",
       "    \n",
       "    \n",
       "    \n",
       "    <tr>\n",
       "        <th>Filenames</th>\n",
       "        <td>sub-05_task-rsvp_eeg.eeg</td>\n",
       "    </tr>\n",
       "    \n",
       "    <tr>\n",
       "        <th>Duration</th>\n",
       "        <td>00:50:23 (HH:MM:SS)</td>\n",
       "    </tr>\n",
       "</table>"
      ],
      "text/plain": [
       "<RawBrainVision | sub-05_task-rsvp_eeg.eeg, 64 x 755505 (3022.0 s), ~369.0 MB, data loaded>"
      ]
     },
     "execution_count": 13,
     "metadata": {},
     "output_type": "execute_result"
    }
   ],
   "source": [
    "ica = ICA(n_components=15, max_iter='auto', random_state=97)\n",
    "ica.fit(bipolar_ref)\n",
    "eog_indices, eog_scores = ica.find_bads_eog(bipolar_ref, ch_name='Reference')\n",
    "ica.exclude = eog_indices\n",
    "ica.apply(reconst_raw)\n",
    "    "
   ]
  },
  {
   "cell_type": "code",
   "execution_count": 14,
   "id": "0ec0e0f2",
   "metadata": {},
   "outputs": [],
   "source": [
    "#Rimuovo il canale di reference perchè non mi serve più\n",
    "final_raw=reconst_raw.drop_channels('Reference')"
   ]
  }
 ],
 "metadata": {
  "kernelspec": {
   "display_name": "Python 3 (ipykernel)",
   "language": "python",
   "name": "python3"
  },
  "language_info": {
   "codemirror_mode": {
    "name": "ipython",
    "version": 3
   },
   "file_extension": ".py",
   "mimetype": "text/x-python",
   "name": "python",
   "nbconvert_exporter": "python",
   "pygments_lexer": "ipython3",
   "version": "3.8.13"
  }
 },
 "nbformat": 4,
 "nbformat_minor": 5
}
