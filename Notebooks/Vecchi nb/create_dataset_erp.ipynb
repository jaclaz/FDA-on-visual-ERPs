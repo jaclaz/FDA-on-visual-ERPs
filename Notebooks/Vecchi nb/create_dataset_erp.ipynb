{
 "cells": [
  {
   "cell_type": "markdown",
   "id": "8d377842",
   "metadata": {},
   "source": [
    "# Creo .csv con gli ERP divisi per canale e categoria"
   ]
  },
  {
   "cell_type": "code",
   "execution_count": null,
   "id": "9609bf08",
   "metadata": {},
   "outputs": [],
   "source": [
    "import numpy as np\n",
    "import os\n",
    "import pandas as pd\n",
    "import mne\n",
    "import skfda\n",
    "import matplotlib.pyplot as plt\n",
    "from skfda.exploratory.visualization import Boxplot\n",
    "from skfda.inference.anova import oneway_anova"
   ]
  },
  {
   "cell_type": "code",
   "execution_count": null,
   "id": "afcb32cc",
   "metadata": {},
   "outputs": [],
   "source": [
    "def erp(epo, canale, df,idx):\n",
    "    evo=epo.average()\n",
    "    temp=evo.pick_channels([canale])\n",
    "    res=temp.to_data_frame()\n",
    "    \n",
    "    if df.empty:\n",
    "        df['time']=res['time']\n",
    "    \n",
    "    df['sub '+str(idx)] = res[canale]"
   ]
  },
  {
   "cell_type": "code",
   "execution_count": null,
   "id": "59dec732",
   "metadata": {},
   "outputs": [],
   "source": [
    "home_path = os.path.abspath(os.getcwd())\n",
    "directory = home_path + '\\\\autoreject'\n",
    "animal_ext=['animal','bird','insect']\n",
    "food_ext=['food','dessert','drink','fruit','vegetable']\n",
    "tool_ext=['tool','electronic device','kitchen appliance','kitchen tool',\n",
    "          'medical equipment','office supply','sports equipment','weapon']\n",
    "\n",
    "channels=['Fp1','Fz','F3','F7','FT9','FC5','FC1','C3','T7','TP9','CP5','CP1',\n",
    "          'Pz','P3','P7','O1','Oz','O2','P4','P8','TP10','CP6','CP2','C4','T8',\n",
    "          'FT10','FC6','FC2','F4','F8','Fp2','AF7','AF3','AFz','F1','F5','FT7',\n",
    "          'FC3','C1','C5','TP7','CP3','P1','P5','PO7','PO3','POz','PO4','PO8',\n",
    "          'P6','P2','CPz','CP4','TP8','C6','C2','FC4','FT8','F6','AF8','AF4',\n",
    "          'F2','FCz']\n",
    "channels=['Oz']\n",
    "directory_csv=home_path + '\\dataframes'"
   ]
  },
  {
   "cell_type": "code",
   "execution_count": null,
   "id": "3ecf108d",
   "metadata": {},
   "outputs": [],
   "source": [
    "for ch in channels:\n",
    "    idx=0\n",
    "    animal=pd.DataFrame()\n",
    "    body=pd.DataFrame()\n",
    "    food=pd.DataFrame()\n",
    "    vehicle=pd.DataFrame()\n",
    "    tool=pd.DataFrame()\n",
    "    \n",
    "    for file in os.listdir(directory):\n",
    "        if ((file == 'sub-49_task-rsvp-epo.fif' or file == 'sub-50_task-rsvp-epo.fif') and ch == 'Oz'):\n",
    "            break\n",
    "        filename = os.path.join(directory, file)\n",
    "        epo = mne.read_epochs(filename)\n",
    "        mne.epochs.combine_event_ids(epo,animal_ext,{'animal_ext':30},copy=False)\n",
    "        mne.epochs.combine_event_ids(epo,food_ext,{'food_ext':31},copy=False)\n",
    "        mne.epochs.combine_event_ids(epo,tool_ext,{'tool_ext':32},copy=False)\n",
    "    \n",
    "        erp(epo['animal_ext'],ch,animal,idx)\n",
    "        erp(epo['body part'],ch,body,idx)\n",
    "        erp(epo['food_ext'],ch,food,idx)\n",
    "        erp(epo['vehicle'],ch,vehicle,idx)\n",
    "        erp(epo['tool_ext'],ch,tool,idx)\n",
    "        \n",
    "        idx+=1\n",
    "\n",
    "    animal.to_csv('dataframes\\\\animal\\\\animal_'+ch+'.csv')\n",
    "    body.to_csv('dataframes\\\\body\\\\body_'+ch+'.csv')\n",
    "    food.to_csv('dataframes\\\\food\\\\food_'+ch+'.csv')\n",
    "    vehicle.to_csv('dataframes\\\\vehicle\\\\vehicle_'+ch+'.csv')\n",
    "    tool.to_csv('dataframes\\\\tool\\\\tool_'+ch+'.csv')"
   ]
  }
 ],
 "metadata": {
  "kernelspec": {
   "display_name": "Python 3 (ipykernel)",
   "language": "python",
   "name": "python3"
  },
  "language_info": {
   "codemirror_mode": {
    "name": "ipython",
    "version": 3
   },
   "file_extension": ".py",
   "mimetype": "text/x-python",
   "name": "python",
   "nbconvert_exporter": "python",
   "pygments_lexer": "ipython3",
   "version": "3.8.13"
  }
 },
 "nbformat": 4,
 "nbformat_minor": 5
}
