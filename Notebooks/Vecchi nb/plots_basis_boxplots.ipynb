{
 "cells": [
  {
   "cell_type": "markdown",
   "id": "f5efa65b",
   "metadata": {},
   "source": [
    "# Salvo i plots della basis representatione e dei boxplots"
   ]
  },
  {
   "cell_type": "code",
   "execution_count": null,
   "id": "26ef0aa0",
   "metadata": {},
   "outputs": [],
   "source": [
    "import numpy as np\n",
    "import os\n",
    "import pandas as pd\n",
    "import mne\n",
    "import skfda\n",
    "import matplotlib.pyplot as plt\n",
    "from skfda.exploratory.visualization import Boxplot\n",
    "from skfda.inference.anova import oneway_anova"
   ]
  },
  {
   "cell_type": "code",
   "execution_count": null,
   "id": "c57b34e4",
   "metadata": {},
   "outputs": [],
   "source": [
    "home_path = os.path.abspath(os.getcwd())\n",
    "directory = home_path + '\\\\autoreject'\n",
    "animal_ext=['animal','bird','insect']\n",
    "food_ext=['food','dessert','drink','fruit','vegetable']\n",
    "tool_ext=['tool','electronic device','kitchen appliance','kitchen tool',\n",
    "          'medical equipment','office supply','sports equipment','weapon']\n",
    "\n",
    "channels=['Fp1','Fz','F3','F7','FT9','FC5','FC1','C3','T7','TP9','CP5','CP1',\n",
    "          'Pz','P3','P7','O1','Oz','O2','P4','P8','TP10','CP6','CP2','C4','T8',\n",
    "          'FT10','FC6','FC2','F4','F8','Fp2','AF7','AF3','AFz','F1','F5','FT7',\n",
    "          'FC3','C1','C5','TP7','CP3','P1','P5','PO7','PO3','POz','PO4','PO8',\n",
    "          'P6','P2','CPz','CP4','TP8','C6','C2','FC4','FT8','F6','AF8','AF4',\n",
    "          'F2','FCz']\n",
    "channels=['Oz']\n",
    "directory_csv=home_path + '\\dataframes'"
   ]
  },
  {
   "cell_type": "code",
   "execution_count": null,
   "id": "9feb669b",
   "metadata": {},
   "outputs": [],
   "source": [
    "for cat in ['animal','body','vehicle','tool','food']:\n",
    "    for ch in channels:\n",
    "        df=pd.read_csv(home_path+'\\\\dataframes\\\\'+cat+'\\\\'+cat+'_'+ch+'.csv')\n",
    "        data=df.iloc[:,2:]\n",
    "        datagrid=skfda.FDataGrid(data_matrix=data.T)\n",
    "        basis = skfda.representation.basis.BSpline(n_basis=18)\n",
    "        smoother=skfda.preprocessing.smoothing.BasisSmoother(basis, smoothing_parameter=1e-5)\n",
    "        cat_basis = smoother.fit_transform(datagrid)\n",
    "        fig=cat_basis.plot()\n",
    "        plt.title('Channel ' + ch + ' ' + cat)\n",
    "        plt.savefig(home_path + '\\\\Plots\\\\basis_rep\\\\'+cat+'\\\\'+ch,dpi=160)\n",
    "        plt.close()\n",
    "    \n",
    "        fdBoxplot = Boxplot(cat_basis.to_grid())\n",
    "        fdBoxplot.show_full_outliers = True\n",
    "\n",
    "        fig=fdBoxplot.plot()\n",
    "        plt.title('Channel ' + ch + ' ' + cat)\n",
    "        plt.savefig(home_path + '\\\\Plots\\\\boxplots\\\\'+cat+'\\\\'+ch,dpi=160)\n",
    "        plt.close()"
   ]
  }
 ],
 "metadata": {
  "kernelspec": {
   "display_name": "Python 3 (ipykernel)",
   "language": "python",
   "name": "python3"
  },
  "language_info": {
   "codemirror_mode": {
    "name": "ipython",
    "version": 3
   },
   "file_extension": ".py",
   "mimetype": "text/x-python",
   "name": "python",
   "nbconvert_exporter": "python",
   "pygments_lexer": "ipython3",
   "version": "3.8.13"
  }
 },
 "nbformat": 4,
 "nbformat_minor": 5
}
