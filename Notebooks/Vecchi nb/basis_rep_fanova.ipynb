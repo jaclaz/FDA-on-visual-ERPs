{
 "cells": [
  {
   "cell_type": "markdown",
   "id": "f11e363b",
   "metadata": {},
   "source": [
    "# Basis representation delle windows e fANOVA con Hochberg"
   ]
  },
  {
   "cell_type": "code",
   "execution_count": 1,
   "id": "0dcb9fb5",
   "metadata": {},
   "outputs": [],
   "source": [
    "import numpy as np\n",
    "import os\n",
    "import pandas as pd\n",
    "import mne\n",
    "import skfda\n",
    "import matplotlib.pyplot as plt\n",
    "from skfda.exploratory.visualization import Boxplot\n",
    "from skfda.inference.anova import oneway_anova"
   ]
  },
  {
   "cell_type": "markdown",
   "id": "482c8770",
   "metadata": {},
   "source": [
    "## Funzione per basis representation e per rimuovere gli outliers"
   ]
  },
  {
   "cell_type": "code",
   "execution_count": 2,
   "id": "585f54e5",
   "metadata": {},
   "outputs": [],
   "source": [
    "def Basis_rep(cat,ch):\n",
    "    df=pd.read_csv(home_path+'\\\\dataframes\\\\'+cat+'\\\\'+cat+'_'+ch+'.csv')\n",
    "    data=df.iloc[:,2:]\n",
    "    datagrid=skfda.FDataGrid(data_matrix=data.T)\n",
    "    basis = skfda.representation.basis.BSpline(n_basis=18)\n",
    "    smoother=skfda.preprocessing.smoothing.BasisSmoother(basis, smoothing_parameter=1e-5)\n",
    "    cat_basis = smoother.fit_transform(datagrid)\n",
    "    \n",
    "    fdBoxplot = Boxplot(cat_basis.to_grid())\n",
    "    non_outliers = [i for (i, b) in zip(np.arange(len(fdBoxplot.outliers)), fdBoxplot.outliers) if not b]\n",
    "    cat_basis_no=cat_basis[non_outliers]\n",
    "    outliers = [i for (i, b) in zip(np.arange(len(fdBoxplot.outliers)), fdBoxplot.outliers) if b]\n",
    "    \n",
    "    return cat_basis_no, outliers"
   ]
  },
  {
   "cell_type": "markdown",
   "id": "df122a55",
   "metadata": {},
   "source": [
    "## Hochberg"
   ]
  },
  {
   "cell_type": "code",
   "execution_count": 3,
   "id": "bfc11ec3",
   "metadata": {},
   "outputs": [],
   "source": [
    "def reversed_enumerate(l):\n",
    "    return zip(range(len(l)-1, -1, -1), reversed(l))\n",
    "\n",
    "def Hochberg(p_val_passed, alpha = 0.05, debug = False):\n",
    "\n",
    "    p_val = p_val_passed.copy() # copy of the list to not modify it\n",
    "\n",
    "    m = len(p_val)\n",
    "    \n",
    "    order = p_val.argsort()\n",
    "    p_val = p_val[order]\n",
    "\n",
    "    if debug:\n",
    "        print('m = ',m,'\\norder: ',order,'\\npval sorted: ',p_val,'\\n\\nFor loop: \\n')\n",
    "\n",
    "    for i,p in reversed_enumerate(p_val):\n",
    "        treshold = alpha/(m - i)    # alpha \\ (m - (i + 1) + 1)\n",
    "        if debug:\n",
    "            print('i ordered = ',order[i],'\\tpval = ',p,'\\t treshold = ',treshold)\n",
    "        if(p <= treshold):\n",
    "            break\n",
    "\n",
    "    if i == 0:\n",
    "        idx_reject = []\n",
    "    else:\n",
    "        idx_reject = order[:(i+1)]\n",
    "    \n",
    "    if debug:\n",
    "        print('\\nindexes rejected: ', idx_reject)\n",
    "\n",
    "    return idx_reject"
   ]
  },
  {
   "cell_type": "code",
   "execution_count": 4,
   "id": "c502523a",
   "metadata": {},
   "outputs": [],
   "source": [
    "home_path = os.path.abspath(os.getcwd())\n",
    "\n",
    "channels=['Fp1','Fz','F3','F7','FT9','FC5','FC1','C3','T7','TP9','CP5','CP1',\n",
    "          'Pz','P3','P7','O1','Oz','O2','P4','P8','TP10','CP6','CP2','C4','T8',\n",
    "          'FT10','FC6','FC2','F4','F8','Fp2','AF7','AF3','AFz','F1','F5','FT7',\n",
    "          'FC3','C1','C5','TP7','CP3','P1','P5','PO7','PO3','POz','PO4','PO8',\n",
    "          'P6','P2','CPz','CP4','TP8','C6','C2','FC4','FT8','F6','AF8','AF4',\n",
    "          'F2','FCz']\n",
    "\n",
    "directory_csv=home_path + '\\dataframes'"
   ]
  },
  {
   "cell_type": "code",
   "execution_count": 5,
   "id": "7a88a3e5",
   "metadata": {},
   "outputs": [],
   "source": [
    "#Basis representation e fANOVA\n",
    "p_val=pd.DataFrame(index=channels,columns=['p_val'])\n",
    "\n",
    "for ch in channels:\n",
    "    animal, an_out=Basis_rep('animal', ch)\n",
    "    body, body_out=Basis_rep('body', ch)\n",
    "    vehicle, v_out=Basis_rep('vehicle', ch)\n",
    "    tool, t_out=Basis_rep('tool', ch)\n",
    "    food, f_out=Basis_rep('food', ch)\n",
    "    \n",
    "    v_n, p = oneway_anova(animal, body, vehicle, tool, food)\n",
    "    \n",
    "    p_val.loc[ch]=p\n",
    "    \n",
    "p_val.to_csv('p_values_3.csv')"
   ]
  },
  {
   "cell_type": "code",
   "execution_count": 6,
   "id": "c569823f",
   "metadata": {
    "scrolled": true
   },
   "outputs": [
    {
     "name": "stdout",
     "output_type": "stream",
     "text": [
      "m =  63 \n",
      "order:  [ 0 61 32 33 34 35 36 37 38 40 42 43 44 30 45 47 48 49 50 51 52 53 54 55\n",
      " 58 59 60 46 29 31 27  1  2  3  4  5  6  7  8  9 10 11 12 28 14 13 16 26\n",
      " 25 24 23 15 22 19 18 17 20 62 21 41 57 39 56] \n",
      "pval sorted:  [0.0 0.0 0.0 0.0 0.0 0.0 0.0 0.0 0.0 0.0 0.0 0.0 0.0 0.0 0.0 0.0 0.0 0.0\n",
      " 0.0 0.0 0.0 0.0 0.0 0.0 0.0 0.0 0.0 0.0 0.0 0.0 0.0 0.0 0.0 0.0 0.0 0.0\n",
      " 0.0 0.0 0.0 0.0 0.0 0.0 0.0 0.0 0.0 0.0 0.0 0.0 0.0 0.0 0.0 0.0 0.0 0.0\n",
      " 0.0 0.0 0.0 0.0 0.0005 0.02 0.037 0.0765 0.327] \n",
      "\n",
      "For loop: \n",
      "\n",
      "i ordered =  56 \tpval =  0.327 \t treshold =  0.05\n",
      "i ordered =  39 \tpval =  0.0765 \t treshold =  0.025\n",
      "i ordered =  57 \tpval =  0.037 \t treshold =  0.016666666666666666\n",
      "i ordered =  41 \tpval =  0.02 \t treshold =  0.0125\n",
      "i ordered =  21 \tpval =  0.0005 \t treshold =  0.01\n",
      "\n",
      "indexes rejected:  [ 0 61 32 33 34 35 36 37 38 40 42 43 44 30 45 47 48 49 50 51 52 53 54 55\n",
      " 58 59 60 46 29 31 27  1  2  3  4  5  6  7  8  9 10 11 12 28 14 13 16 26\n",
      " 25 24 23 15 22 19 18 17 20 62 21]\n"
     ]
    },
    {
     "data": {
      "text/plain": [
       "['Fp1',\n",
       " 'Fz',\n",
       " 'F3',\n",
       " 'F7',\n",
       " 'FT9',\n",
       " 'FC5',\n",
       " 'FC1',\n",
       " 'C3',\n",
       " 'T7',\n",
       " 'TP9',\n",
       " 'CP5',\n",
       " 'CP1',\n",
       " 'Pz',\n",
       " 'P3',\n",
       " 'P7',\n",
       " 'O1',\n",
       " 'Oz',\n",
       " 'O2',\n",
       " 'P4',\n",
       " 'P8',\n",
       " 'TP10',\n",
       " 'CP6',\n",
       " 'CP2',\n",
       " 'C4',\n",
       " 'T8',\n",
       " 'FT10',\n",
       " 'FC6',\n",
       " 'FC2',\n",
       " 'F4',\n",
       " 'F8',\n",
       " 'Fp2',\n",
       " 'AF7',\n",
       " 'AF3',\n",
       " 'AFz',\n",
       " 'F1',\n",
       " 'F5',\n",
       " 'FT7',\n",
       " 'FC3',\n",
       " 'C1',\n",
       " 'TP7',\n",
       " 'P1',\n",
       " 'P5',\n",
       " 'PO7',\n",
       " 'PO3',\n",
       " 'POz',\n",
       " 'PO4',\n",
       " 'PO8',\n",
       " 'P6',\n",
       " 'P2',\n",
       " 'CPz',\n",
       " 'CP4',\n",
       " 'TP8',\n",
       " 'C6',\n",
       " 'C2',\n",
       " 'F6',\n",
       " 'AF8',\n",
       " 'AF4',\n",
       " 'F2',\n",
       " 'FCz']"
      ]
     },
     "execution_count": 6,
     "metadata": {},
     "output_type": "execute_result"
    }
   ],
   "source": [
    "#Applico Hochberg\n",
    "\n",
    "indxs_Hoch = Hochberg(p_val.to_numpy().flatten(), debug = True)\n",
    "indxs_Hoch\n",
    "    \n",
    "ch_rej=list(channels[i] for i in np.sort(indxs_Hoch))\n",
    "ch_rej"
   ]
  },
  {
   "cell_type": "code",
   "execution_count": null,
   "id": "4d6a2848",
   "metadata": {},
   "outputs": [],
   "source": []
  }
 ],
 "metadata": {
  "kernelspec": {
   "display_name": "Python 3 (ipykernel)",
   "language": "python",
   "name": "python3"
  },
  "language_info": {
   "codemirror_mode": {
    "name": "ipython",
    "version": 3
   },
   "file_extension": ".py",
   "mimetype": "text/x-python",
   "name": "python",
   "nbconvert_exporter": "python",
   "pygments_lexer": "ipython3",
   "version": "3.8.13"
  }
 },
 "nbformat": 4,
 "nbformat_minor": 5
}
